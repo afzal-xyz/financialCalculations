{
 "cells": [
  {
   "cell_type": "code",
   "execution_count": null,
   "id": "9a317820",
   "metadata": {},
   "outputs": [],
   "source": [
    "import sys\n",
    "#!conda install --yes --prefix {sys.prefix} numpy\n",
    "!{sys.executable} -m pip install pandas_datareader\n",
    "\n",
    "import pandas as pd\n",
    "from pandas_datareader import data\n",
    "import pandas_datareader.data as web\n",
    "import datetime\n",
    "#following are for reference if we need to import library outside anacond\n"
   ]
  },
  {
   "cell_type": "code",
   "execution_count": null,
   "id": "cff95699",
   "metadata": {},
   "outputs": [],
   "source": [
    "def covariance(x, y):\n",
    "    # Finding the mean of the series x and y\n",
    "    mean_x = sum(x)/float(len(x))\n",
    "    mean_y = sum(y)/float(len(y))\n",
    "    # Subtracting mean from the individual elements\n",
    "    sub_x = [i - mean_x for i in x]\n",
    "    sub_y = [i - mean_y for i in y]\n",
    "    numerator = sum([sub_x[i]*sub_y[i] for i in range(len(sub_x))])\n",
    "    denominator = len(x)-1\n",
    "    cov = numerator/denominator\n",
    "    return cov"
   ]
  },
  {
   "cell_type": "code",
   "execution_count": null,
   "id": "3996213e",
   "metadata": {},
   "outputs": [],
   "source": [
    "start = datetime.datetime(2017, 5, 29)\n",
    "end = datetime.datetime(2022, 5, 23)\n",
    "msft = data.DataReader(\"MSFT\", \n",
    "                       start='2017-05-29', \n",
    "                       end='2022-05-23', \n",
    "                       data_source='yahoo')['Adj Close']\n",
    "\n",
    "sp500 = data.DataReader(\"^GSPC\", \n",
    "                       start='2017-05-29', \n",
    "                       end='2022-05-23', \n",
    "                       data_source='yahoo')['Adj Close']\n",
    "\n"
   ]
  },
  {
   "cell_type": "code",
   "execution_count": null,
   "id": "c367a22e",
   "metadata": {},
   "outputs": [],
   "source": [
    "print('-----MSFT-----')\n",
    "msft = pd.DataFrame({'Date':msft.index, 'AdjClose':msft.values})\n",
    "msft.head()"
   ]
  },
  {
   "cell_type": "code",
   "execution_count": null,
   "id": "e9b26e16",
   "metadata": {},
   "outputs": [],
   "source": [
    "print('-----S&P500-----')\n",
    "sp500 = pd.DataFrame({'Date':sp500.index, 'AdjClose':sp500.values})\n",
    "sp500.head()"
   ]
  },
  {
   "cell_type": "code",
   "execution_count": null,
   "id": "f1c7d695",
   "metadata": {},
   "outputs": [],
   "source": [
    "#First, create the derived value:\n",
    "msftdf = msft.copy()\n",
    "sp500df = sp500.copy()\n",
    "\n",
    "msftdf['PctChange'] = 0.0\n",
    "msftdf.dropna(inplace= True)\n",
    "msftdf.reset_index(drop=True)\n",
    "\n",
    "sp500df['PctChange'] = 0.0\n",
    "sp500df.dropna(inplace= True)\n",
    "sp500df.reset_index(drop=True)\n",
    "\n",
    "stocks = [msftdf, sp500df]\n",
    "for stockdata in stocks:\n",
    "    val = None\n",
    "    for i in range(0, len(stockdata)):\n",
    "        row = stockdata.iloc[[i]]\n",
    "        if i==0:\n",
    "            val = stockdata.loc[row.index[0], 'AdjClose']\n",
    "            continue\n",
    "        stockdata.loc[row.index[0], 'PctChange'] = val/stockdata.loc[row.index[0], 'AdjClose']\n",
    "   \n",
    "    "
   ]
  },
  {
   "cell_type": "code",
   "execution_count": null,
   "id": "d878ef2d",
   "metadata": {},
   "outputs": [],
   "source": [
    "msftdf.head()"
   ]
  },
  {
   "cell_type": "code",
   "execution_count": null,
   "id": "4196ec33",
   "metadata": {},
   "outputs": [],
   "source": [
    "sp500df.head()"
   ]
  },
  {
   "cell_type": "code",
   "execution_count": null,
   "id": "bd47fefb",
   "metadata": {},
   "outputs": [],
   "source": [
    "msftVariance = msftdf['PctChange'].var()\n",
    "msftVariance"
   ]
  },
  {
   "cell_type": "code",
   "execution_count": null,
   "id": "b18ca234",
   "metadata": {},
   "outputs": [],
   "source": [
    "sp500dfVariance = sp500df['PctChange'].var()\n",
    "sp500dfVariance"
   ]
  },
  {
   "cell_type": "code",
   "execution_count": null,
   "id": "01a64aec",
   "metadata": {},
   "outputs": [],
   "source": [
    "import numpy as np\n",
    "msftCov = covariance(msftdf['PctChange'].tolist(), sp500df['PctChange'].tolist())"
   ]
  },
  {
   "cell_type": "code",
   "execution_count": 37,
   "id": "c4bcb943",
   "metadata": {},
   "outputs": [
    {
     "data": {
      "text/plain": [
       "0.5776410257808513"
      ]
     },
     "execution_count": 37,
     "metadata": {},
     "output_type": "execute_result"
    }
   ],
   "source": [
    "msftBeta = msftCov/msftVariance\n",
    "msftBeta"
   ]
  },
  {
   "cell_type": "code",
   "execution_count": null,
   "id": "fb2502ba",
   "metadata": {},
   "outputs": [],
   "source": []
  }
 ],
 "metadata": {
  "kernelspec": {
   "display_name": "Python 3 (ipykernel)",
   "language": "python",
   "name": "python3"
  },
  "language_info": {
   "codemirror_mode": {
    "name": "ipython",
    "version": 3
   },
   "file_extension": ".py",
   "mimetype": "text/x-python",
   "name": "python",
   "nbconvert_exporter": "python",
   "pygments_lexer": "ipython3",
   "version": "3.9.12"
  }
 },
 "nbformat": 4,
 "nbformat_minor": 5
}
